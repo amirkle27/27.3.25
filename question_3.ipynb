{
 "cells": [
  {
   "cell_type": "markdown",
   "id": "9a4bbb00-7d0e-4bd9-a7ac-6e77e0ba64d5",
   "metadata": {},
   "source": [
    "# תרגיל 3:"
   ]
  },
  {
   "cell_type": "markdown",
   "id": "c2b6a206-a934-404a-89d8-bc2a67a31bc0",
   "metadata": {},
   "source": [
    "## פתרון ידני:"
   ]
  },
  {
   "cell_type": "markdown",
   "id": "747f0636-899e-4d4d-bdc0-5c1bd015682b",
   "metadata": {},
   "source": [
    "### 2x + y = 3\n",
    "### x + y + z = 0\n",
    "### y + 3z = -1\n"
   ]
  },
  {
   "cell_type": "code",
   "execution_count": null,
   "id": "bb7a0aa8-38e4-46d9-a771-f7709b193ceb",
   "metadata": {},
   "outputs": [],
   "source": [
    "A = [2, 1, 0]    X = [x]    B = [3 ]  \n",
    "    [1, 1, 1]        [y]        [0 ]\n",
    "    [0, 1, 3]        [z]        [-1]"
   ]
  },
  {
   "cell_type": "code",
   "execution_count": null,
   "id": "1fbe2f4f-460e-4562-b415-1ec590a123ba",
   "metadata": {},
   "outputs": [],
   "source": [
    "det = 6(1*3-1*1) -1(1*3-1*0) +0(1*1-1*0) = 2(3-1)-1(3-0)"
   ]
  },
  {
   "cell_type": "markdown",
   "id": "8b515a03-1b0c-4511-9256-0d22f49f7d20",
   "metadata": {},
   "source": [
    "### det = 1"
   ]
  },
  {
   "cell_type": "code",
   "execution_count": null,
   "id": "33889ac0-2d50-43c0-a5d1-9f0c83bcf65c",
   "metadata": {},
   "outputs": [],
   "source": [
    "C(11) = (1*3)-(1*1) = 2                                    [2, -3, 1]\n",
    "C(12) = (1*3)-(1*0) = 3  --->  -3                          [-3, 6,-2]\n",
    "C(13) = (1*1)-(1*0) = 1                                    [1, -2, 1]\n",
    "C(21) = (1*3)-(0*1) = 3 ---->  -3                         \n",
    "C(22) = (2*3)-(0*0) = 6\n",
    "C(23) = (2*1)-(1*0) = 2 ---->  -2\n",
    "C(31) = (1*1)-(0*1) = 1\n",
    "C(32) = (2*1)-(0*1) = 2 ---->  -2\n",
    "C(33) = (2*1)-(1*1) = 1"
   ]
  },
  {
   "cell_type": "code",
   "execution_count": null,
   "id": "44702b82-318a-451e-a117-9060e028ae04",
   "metadata": {},
   "outputs": [],
   "source": [
    "Transpose, adj = [2, -3, 1]\n",
    "                 [-3, 6,-2]\n",
    "                 [1, -2, 1]"
   ]
  },
  {
   "cell_type": "markdown",
   "id": "b17ce2dd-2d97-4024-bf34-67970f58dcd3",
   "metadata": {},
   "source": [
    "## A^-1 = 1/det(A) * adj(A)"
   ]
  },
  {
   "cell_type": "code",
   "execution_count": null,
   "id": "7e07f2c6-f3e9-4636-a0f3-616b1975ce95",
   "metadata": {},
   "outputs": [],
   "source": [
    "A^-1 = 1/1 * [2, -3, 1]\n",
    "             [-3, 6,-2]\n",
    "             [1, -2, 1]"
   ]
  },
  {
   "cell_type": "markdown",
   "id": "1dc46318-329e-4f47-8973-44205e9bf4cf",
   "metadata": {},
   "source": [
    "## X = A^-1 * B\n"
   ]
  },
  {
   "cell_type": "code",
   "execution_count": null,
   "id": "1f5b42c1-b32b-49cc-b495-aa03c327ca57",
   "metadata": {},
   "outputs": [],
   "source": [
    "X =  [2, -3, 1] * [3 ]\n",
    "     [-3, 6,-2]   [0 ]\n",
    "     [1, -2, 1]   [-1] "
   ]
  },
  {
   "cell_type": "code",
   "execution_count": null,
   "id": "c2fe7844-366d-43ff-9ec8-fb3499c10a4b",
   "metadata": {},
   "outputs": [],
   "source": [
    "X = [(2 * 3) + (-3 * 0) + (1*-1)]\n",
    "    [(-3 * 3) + (6 *0) + (-2*-1)]\n",
    "    [(1 * 3) + (-2 * 0) + (1*-1)]"
   ]
  },
  {
   "cell_type": "markdown",
   "id": "65739dd2-43be-41bb-b28f-1acb6869cfb5",
   "metadata": {},
   "source": [
    "### X =\n",
    "###   [ 5]\n",
    "###   [-7]\n",
    "###   [ 2]\n"
   ]
  },
  {
   "cell_type": "markdown",
   "id": "32a2bfc8-ed42-4fb8-86a1-d306311a05cf",
   "metadata": {},
   "source": [
    "## x = 5, y = -7, z = 2"
   ]
  },
  {
   "cell_type": "markdown",
   "id": "4b252d47-fe3b-4893-9212-d608e4375215",
   "metadata": {},
   "source": [
    "# פתרון בקוד:"
   ]
  },
  {
   "cell_type": "code",
   "execution_count": 20,
   "id": "2726fdc6-4e4c-494e-a9b6-df385b7b9d96",
   "metadata": {},
   "outputs": [
    {
     "name": "stdout",
     "output_type": "stream",
     "text": [
      "System of equations:\n",
      "2x + 1y = 3\n",
      "1x + 1y + 1z = 0\n",
      "1y + 3z = -1\n",
      "\n",
      "Results:\n",
      "Solution: x = 5.00, y = -7.00, z = 2.00\n",
      "A_inverse: [[2.0, -3.0, 1.0], [-3.0, 6.0, -2.0], [1.0, -2.0, 1.0]]\n"
     ]
    }
   ],
   "source": [
    "import numpy as np\n",
    "\n",
    "def solve_linear_system(coefficients, constants):\n",
    "    \"\"\"\n",
    "    Function to solve a system of linear equations with any number of unknowns\n",
    "    \n",
    "    :param coefficients: Coefficient matrix of the equations. nxn matrix\n",
    "    :param constants: Vector of constant terms [b1, b2, ..., bn]\n",
    "    :return: Solution of the system and details of calculation method\n",
    "    \"\"\"\n",
    "    \n",
    "    # Convert inputs to numpy arrays\n",
    "    A = np.array(coefficients, dtype=float)\n",
    "    b = np.array(constants, dtype=float)\n",
    "    \n",
    "   # Validate input dimensions\n",
    "    n = b.shape[0]  # Number of equations/unknowns\n",
    "    if A.shape != (n, n):\n",
    "        raise ValueError(f\"Input must be a system of {n} equations with {n} unknowns\")\n",
    "        \n",
    "    results = {}\n",
    "    \n",
    "    det_A = np.linalg.det(A)\n",
    "    \n",
    "    if abs(det_A) < 1e-10:\n",
    "        results[\"inverse\"] = \"Cannot compute inverse (singular matrix)\"\n",
    "    else:\n",
    "         # Calculate inverse of coefficient matrix\n",
    "        A_inv = np.linalg.inv(A)  # 1/det * adj = 1/det * [Cof^T}\n",
    "        \n",
    "        # Calculate solution x = A^(-1) * b\n",
    "        solution = np.dot(A_inv, b)\n",
    "        \n",
    "        results[\"inverse\"] = {\n",
    "            \"A_inverse\": A_inv.tolist(),\n",
    "            \"solution\": solution.tolist()\n",
    "        }\n",
    "       \n",
    "    return results\n",
    "\n",
    "# Example system:\n",
    "# 3x + 2y = 14\n",
    "# 2x + 5y = 19\n",
    "### x – y = 8\n",
    "### 3x + 2y = 24\n",
    "\n",
    "\n",
    "coefficients = [[2, 1, 0], [1, 1, 1], [0, 1, 3]]\n",
    "constants = [3, 0, -1]\n",
    "\n",
    "results = solve_linear_system(coefficients, constants)\n",
    "\n",
    "print(\"System of equations:\")\n",
    "print(f\"{coefficients[0][0]}x + {coefficients[0][1]}y = {constants[0]}\")\n",
    "print(f\"{coefficients[1][0]}x + {coefficients[1][1]}y + {coefficients[1][2]}z = {constants[1]}\")\n",
    "print(f\"{coefficients[2][1]}y + {coefficients[2][2]}z = {constants[2]}\")\n",
    "print(\"\\nResults:\")\n",
    "\n",
    "for method, result in results.items():\n",
    "    if isinstance(result, dict):\n",
    "        if \"solution\" in result:\n",
    "            print(f\"Solution: x = {result['solution'][0]:.2f}, y = {result['solution'][1]:.2f}, z = {result['solution'][2]:.2f}\")\n",
    "        for key, value in result.items():\n",
    "            if key != \"solution\":\n",
    "                print(f\"{key}: {value}\")\n",
    "    else:\n",
    "        print(result)\n"
   ]
  }
 ],
 "metadata": {
  "kernelspec": {
   "display_name": "Python 3 (ipykernel)",
   "language": "python",
   "name": "python3"
  },
  "language_info": {
   "codemirror_mode": {
    "name": "ipython",
    "version": 3
   },
   "file_extension": ".py",
   "mimetype": "text/x-python",
   "name": "python",
   "nbconvert_exporter": "python",
   "pygments_lexer": "ipython3",
   "version": "3.12.7"
  }
 },
 "nbformat": 4,
 "nbformat_minor": 5
}
