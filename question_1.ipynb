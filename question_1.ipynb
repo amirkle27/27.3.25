{
 "cells": [
  {
   "cell_type": "markdown",
   "id": "e822ecaa-46ae-4b88-8d30-847ea38559e5",
   "metadata": {},
   "source": [
    "# תרגיל 1:"
   ]
  },
  {
   "cell_type": "markdown",
   "id": "85ac1a5e-64f6-40f6-9461-94878fb2ac3b",
   "metadata": {},
   "source": [
    "## פתרון ידני:"
   ]
  },
  {
   "cell_type": "markdown",
   "id": "ea8b88af-ea12-42dc-87e9-64dc076cc546",
   "metadata": {},
   "source": [
    "### x – y = 8\n",
    "### 3x + 2y = 24"
   ]
  },
  {
   "cell_type": "code",
   "execution_count": null,
   "id": "6c547883-6c79-4b98-8b6c-76550f92e8ff",
   "metadata": {},
   "outputs": [],
   "source": [
    "A = [1, -1]    X = [x]    B = [8 ]  \n",
    "    [3,  2]        [y]        [24]"
   ]
  },
  {
   "cell_type": "code",
   "execution_count": null,
   "id": "458a5a19-7409-41d8-9d0b-14f132d244c1",
   "metadata": {},
   "outputs": [],
   "source": [
    "det = 1*2 - (-1*3) = 2-(-3)"
   ]
  },
  {
   "cell_type": "markdown",
   "id": "20e3bd32-c1b2-4574-94e3-1effb3804eac",
   "metadata": {},
   "source": [
    "### det = 5"
   ]
  },
  {
   "cell_type": "code",
   "execution_count": null,
   "id": "1647ff8f-76a8-46c6-9d01-39f559bea038",
   "metadata": {},
   "outputs": [],
   "source": [
    "adj = [d, -b]\n",
    "      [-c, a]"
   ]
  },
  {
   "cell_type": "markdown",
   "id": "e1d4e419-ce29-4d94-b847-77212a98de02",
   "metadata": {},
   "source": [
    "### adj = \n",
    "###   [ 2, 1]\n",
    "###   [-3, 1]"
   ]
  },
  {
   "cell_type": "markdown",
   "id": "b35f0a55-ca3b-46a7-be12-0294d2ce3cff",
   "metadata": {},
   "source": [
    "## A^-1 = 1/det(A) * adj(A)"
   ]
  },
  {
   "cell_type": "code",
   "execution_count": null,
   "id": "cd73c461-caf7-4df6-9591-a83e549b8637",
   "metadata": {},
   "outputs": [],
   "source": [
    "A^-1 = 1/5 * [ 2,1]\n",
    "             [-3,1]"
   ]
  },
  {
   "cell_type": "code",
   "execution_count": null,
   "id": "4fab5303-2a7a-4de9-8c75-dccc7d5dfc87",
   "metadata": {},
   "outputs": [],
   "source": [
    "A^-1 = [ 2/5, 1/5]\n",
    "       [-3/5, 1/5]"
   ]
  },
  {
   "cell_type": "markdown",
   "id": "1fdf03e7-583d-4165-851f-348b105db08a",
   "metadata": {},
   "source": [
    "## X = A^-1 * B"
   ]
  },
  {
   "cell_type": "code",
   "execution_count": null,
   "id": "92ce7450-31d5-4afd-aaf8-347a852c9078",
   "metadata": {},
   "outputs": [],
   "source": [
    "X =  [ 2/5, 1/5]  * [8 ]\n",
    "     [-3/5, 1/5]    [24]"
   ]
  },
  {
   "cell_type": "code",
   "execution_count": null,
   "id": "15fc8da9-adbe-4f0c-ba54-9378430a69b7",
   "metadata": {},
   "outputs": [],
   "source": [
    "X = [(2/5 * 8) + (1/5 * 24)]\n",
    "    [(-3/5 * 8) + (1/5 * 24)]"
   ]
  },
  {
   "cell_type": "code",
   "execution_count": null,
   "id": "e3fd44f8-ef9d-4a83-9f03-b097a51ea71b",
   "metadata": {},
   "outputs": [],
   "source": [
    "X = [40/5]\n",
    "    [0/5 ]"
   ]
  },
  {
   "cell_type": "markdown",
   "id": "2e64faa2-9eff-4ba6-904e-0eec1d5c729d",
   "metadata": {},
   "source": [
    "### X =\n",
    "###   [8]\n",
    "###   [0]"
   ]
  },
  {
   "cell_type": "markdown",
   "id": "253ba6d8-6b07-408b-bd26-f24798f80986",
   "metadata": {},
   "source": [
    "## x = 8, y = 0"
   ]
  },
  {
   "cell_type": "markdown",
   "id": "9a8b7dd8-3b1a-4e6d-a967-459b15249bf6",
   "metadata": {},
   "source": [
    "# פתרון בקוד:"
   ]
  },
  {
   "cell_type": "code",
   "execution_count": 1,
   "id": "2405e5ad-6ba7-4bae-b3d9-6fec583efd97",
   "metadata": {},
   "outputs": [
    {
     "name": "stdout",
     "output_type": "stream",
     "text": [
      "System of equations:\n",
      "1x + -1y = 8\n",
      "3x + 2y = 24\n",
      "\n",
      "Results:\n",
      "Solution: x = 8.00, y = 0.00\n",
      "A_inverse: [[0.4000000000000001, 0.19999999999999998], [-0.6000000000000001, 0.2]]\n"
     ]
    }
   ],
   "source": [
    "import numpy as np\n",
    "\n",
    "def solve_linear_system(coefficients, constants):\n",
    "    \"\"\"\n",
    "    Function to solve a system of linear equations with any number of unknowns\n",
    "    \n",
    "    :param coefficients: Coefficient matrix of the equations. nxn matrix\n",
    "    :param constants: Vector of constant terms [b1, b2, ..., bn]\n",
    "    :return: Solution of the system and details of calculation method\n",
    "    \"\"\"\n",
    "    \n",
    "    # Convert inputs to numpy arrays\n",
    "    A = np.array(coefficients, dtype=float)\n",
    "    b = np.array(constants, dtype=float)\n",
    "    \n",
    "   # Validate input dimensions\n",
    "    n = b.shape[0]  # Number of equations/unknowns\n",
    "    if A.shape != (n, n):\n",
    "        raise ValueError(f\"Input must be a system of {n} equations with {n} unknowns\")\n",
    "        \n",
    "    results = {}\n",
    "    \n",
    "    det_A = np.linalg.det(A)\n",
    "    \n",
    "    if abs(det_A) < 1e-10:\n",
    "        results[\"inverse\"] = \"Cannot compute inverse (singular matrix)\"\n",
    "    else:\n",
    "         # Calculate inverse of coefficient matrix\n",
    "        A_inv = np.linalg.inv(A)  # 1/det * adj = 1/det * [Cof^T}\n",
    "        \n",
    "        # Calculate solution x = A^(-1) * b\n",
    "        solution = np.dot(A_inv, b)\n",
    "        \n",
    "        results[\"inverse\"] = {\n",
    "            \"A_inverse\": A_inv.tolist(),\n",
    "            \"solution\": solution.tolist()\n",
    "        }\n",
    "       \n",
    "    return results\n",
    "\n",
    "# Example system:\n",
    "# 3x + 2y = 14\n",
    "# 2x + 5y = 19\n",
    "### x – y = 8\n",
    "### 3x + 2y = 24\n",
    "\n",
    "coefficients = [[1, -1], [3, 2]]\n",
    "constants = [8, 24]\n",
    "\n",
    "results = solve_linear_system(coefficients, constants)\n",
    "\n",
    "print(\"System of equations:\")\n",
    "print(f\"{coefficients[0][0]}x + {coefficients[0][1]}y = {constants[0]}\")\n",
    "print(f\"{coefficients[1][0]}x + {coefficients[1][1]}y = {constants[1]}\")\n",
    "print(\"\\nResults:\")\n",
    "\n",
    "for method, result in results.items():\n",
    "    if isinstance(result, dict):\n",
    "        if \"solution\" in result:\n",
    "            print(f\"Solution: x = {result['solution'][0]:.2f}, y = {result['solution'][1]:.2f}\")\n",
    "        for key, value in result.items():\n",
    "            if key != \"solution\":\n",
    "                print(f\"{key}: {value}\")\n",
    "    else:\n",
    "        print(result)\n"
   ]
  }
 ],
 "metadata": {
  "kernelspec": {
   "display_name": "Python 3 (ipykernel)",
   "language": "python",
   "name": "python3"
  },
  "language_info": {
   "codemirror_mode": {
    "name": "ipython",
    "version": 3
   },
   "file_extension": ".py",
   "mimetype": "text/x-python",
   "name": "python",
   "nbconvert_exporter": "python",
   "pygments_lexer": "ipython3",
   "version": "3.12.7"
  }
 },
 "nbformat": 4,
 "nbformat_minor": 5
}
