{
 "cells": [
  {
   "cell_type": "markdown",
   "id": "3a60c0c4-0100-44b3-a935-637feef84a0f",
   "metadata": {},
   "source": [
    "# תרגיל 2:"
   ]
  },
  {
   "cell_type": "markdown",
   "id": "3af4e79b-c889-416c-bd11-4d0393049958",
   "metadata": {},
   "source": [
    "## פתרון ידני:"
   ]
  },
  {
   "cell_type": "markdown",
   "id": "f7ce79f5-477d-4170-b993-03c7461fc91f",
   "metadata": {},
   "source": [
    "### 6x + y = 12\n",
    "### 3y + 2x = 20"
   ]
  },
  {
   "cell_type": "markdown",
   "id": "2d9b7b25-5022-45b2-ac56-f06d094acba0",
   "metadata": {},
   "source": [
    "### 6x + y = 12\n",
    "### 2x + 3y = 20"
   ]
  },
  {
   "cell_type": "code",
   "execution_count": null,
   "id": "8567ea88-8f2f-4e0b-a0eb-06951c3779b4",
   "metadata": {},
   "outputs": [],
   "source": [
    "A = [6, 1]    X = [x]    B = [12]  \n",
    "    [2, 3]        [y]        [20]"
   ]
  },
  {
   "cell_type": "code",
   "execution_count": null,
   "id": "7d83a788-b719-431d-8ec3-39e67cf995af",
   "metadata": {},
   "outputs": [],
   "source": [
    "det = 6*3 - (1*2) = 18-2"
   ]
  },
  {
   "cell_type": "markdown",
   "id": "d216e93e-59e2-4877-8b02-1e27a141e076",
   "metadata": {},
   "source": [
    "### det = 16"
   ]
  },
  {
   "cell_type": "code",
   "execution_count": null,
   "id": "9cf66791-1bb1-4466-a491-20f4c85adf64",
   "metadata": {},
   "outputs": [],
   "source": [
    "adj = [d, -b]\n",
    "      [-c, a]"
   ]
  },
  {
   "cell_type": "markdown",
   "id": "b92277bf-a5aa-48d9-b8db-69bf3ba48e43",
   "metadata": {},
   "source": [
    "### adj = \n",
    "###   [ 3, -1]\n",
    "###   [-2, 6 ]"
   ]
  },
  {
   "cell_type": "markdown",
   "id": "777db01b-0f61-4cc9-9e31-2758109ebfa3",
   "metadata": {},
   "source": [
    "## A^-1 = 1/det(A) * adj(A)"
   ]
  },
  {
   "cell_type": "code",
   "execution_count": null,
   "id": "56cbce9b-cae9-447f-8968-a8938bfe75a9",
   "metadata": {},
   "outputs": [],
   "source": [
    "A^-1 = 1/16 * [ 3,-1]\n",
    "              [-2, 6]"
   ]
  },
  {
   "cell_type": "markdown",
   "id": "a053d010-f9da-48ab-90ff-2d2222830686",
   "metadata": {},
   "source": [
    "## X = A^-1 * B\n"
   ]
  },
  {
   "cell_type": "code",
   "execution_count": null,
   "id": "38361f66-d0ad-413e-950b-c5269483d5fa",
   "metadata": {},
   "outputs": [],
   "source": [
    "X =  [3/16, -1/16]  * [12]\n",
    "     [-2/16, 6/16]    [20]"
   ]
  },
  {
   "cell_type": "code",
   "execution_count": null,
   "id": "1cc62ae4-0f7d-4440-8fec-04819815ae6c",
   "metadata": {},
   "outputs": [],
   "source": [
    "X = [(3/16 * 12) + (-1/16 * 20)]\n",
    "    [(-2/16 * 12) + (6/16 * 20)]"
   ]
  },
  {
   "cell_type": "code",
   "execution_count": null,
   "id": "20febdee-62e4-4598-ab42-f8c7e2f423fc",
   "metadata": {},
   "outputs": [],
   "source": [
    "X = [16/16]\n",
    "    [96/16]"
   ]
  },
  {
   "cell_type": "markdown",
   "id": "1c32b0f2-3253-4b71-91d0-9983c3b06645",
   "metadata": {},
   "source": [
    "### X =\n",
    "###   [1]\n",
    "###   [6]"
   ]
  },
  {
   "cell_type": "markdown",
   "id": "020468e9-9ba6-4184-a8e0-da94ab3c0887",
   "metadata": {},
   "source": [
    "## x = 1, y = 6"
   ]
  },
  {
   "cell_type": "markdown",
   "id": "dec69bc2-9e42-4421-9b47-0273b61ec062",
   "metadata": {},
   "source": [
    "# פתרון בקוד:"
   ]
  },
  {
   "cell_type": "code",
   "execution_count": 14,
   "id": "e33ffefb-b7ae-4a8b-96f8-9c6ee962baab",
   "metadata": {},
   "outputs": [
    {
     "name": "stdout",
     "output_type": "stream",
     "text": [
      "System of equations:\n",
      "6x + 1y = 12\n",
      "2x + 3y = 20\n",
      "\n",
      "Results:\n",
      "Solution: x = 1.00, y = 6.00\n",
      "A_inverse: [[0.1875, -0.0625], [-0.125, 0.375]]\n"
     ]
    }
   ],
   "source": [
    "import numpy as np\n",
    "\n",
    "def solve_linear_system(coefficients, constants):\n",
    "    \"\"\"\n",
    "    Function to solve a system of linear equations with any number of unknowns\n",
    "    \n",
    "    :param coefficients: Coefficient matrix of the equations. nxn matrix\n",
    "    :param constants: Vector of constant terms [b1, b2, ..., bn]\n",
    "    :return: Solution of the system and details of calculation method\n",
    "    \"\"\"\n",
    "    \n",
    "    # Convert inputs to numpy arrays\n",
    "    A = np.array(coefficients, dtype=float)\n",
    "    b = np.array(constants, dtype=float)\n",
    "    \n",
    "   # Validate input dimensions\n",
    "    n = b.shape[0]  # Number of equations/unknowns\n",
    "    if A.shape != (n, n):\n",
    "        raise ValueError(f\"Input must be a system of {n} equations with {n} unknowns\")\n",
    "        \n",
    "    results = {}\n",
    "    \n",
    "    det_A = np.linalg.det(A)\n",
    "    \n",
    "    if abs(det_A) < 1e-10:\n",
    "        results[\"inverse\"] = \"Cannot compute inverse (singular matrix)\"\n",
    "    else:\n",
    "         # Calculate inverse of coefficient matrix\n",
    "        A_inv = np.linalg.inv(A)  # 1/det * adj = 1/det * [Cof^T}\n",
    "        \n",
    "        # Calculate solution x = A^(-1) * b\n",
    "        solution = np.dot(A_inv, b)\n",
    "        \n",
    "        results[\"inverse\"] = {\n",
    "            \"A_inverse\": A_inv.tolist(),\n",
    "            \"solution\": solution.tolist()\n",
    "        }\n",
    "       \n",
    "    return results\n",
    "\n",
    "# Example system:\n",
    "# 3x + 2y = 14\n",
    "# 2x + 5y = 19\n",
    "### x – y = 8\n",
    "### 3x + 2y = 24\n",
    "coefficients = [[6, 1], [2, 3]]\n",
    "constants = [12, 20]\n",
    "\n",
    "results = solve_linear_system(coefficients, constants)\n",
    "\n",
    "print(\"System of equations:\")\n",
    "print(f\"{coefficients[0][0]}x + {coefficients[0][1]}y = {constants[0]}\")\n",
    "print(f\"{coefficients[1][0]}x + {coefficients[1][1]}y = {constants[1]}\")\n",
    "print(\"\\nResults:\")\n",
    "\n",
    "for method, result in results.items():\n",
    "    if isinstance(result, dict):\n",
    "        if \"solution\" in result:\n",
    "            print(f\"Solution: x = {result['solution'][0]:.2f}, y = {result['solution'][1]:.2f}\")\n",
    "        for key, value in result.items():\n",
    "            if key != \"solution\":\n",
    "                print(f\"{key}: {value}\")\n",
    "    else:\n",
    "        print(result)\n"
   ]
  }
 ],
 "metadata": {
  "kernelspec": {
   "display_name": "Python 3 (ipykernel)",
   "language": "python",
   "name": "python3"
  },
  "language_info": {
   "codemirror_mode": {
    "name": "ipython",
    "version": 3
   },
   "file_extension": ".py",
   "mimetype": "text/x-python",
   "name": "python",
   "nbconvert_exporter": "python",
   "pygments_lexer": "ipython3",
   "version": "3.12.7"
  }
 },
 "nbformat": 4,
 "nbformat_minor": 5
}
