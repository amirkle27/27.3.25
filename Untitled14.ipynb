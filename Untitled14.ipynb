{
 "cells": [
  {
   "cell_type": "markdown",
   "id": "48bc93fd-f1bc-4e52-b560-adf9505d78af",
   "metadata": {},
   "source": [
    "# פתירת משוואות באמצעות הנוסחא\n",
    "# AX = B"
   ]
  },
  {
   "cell_type": "markdown",
   "id": "da0400b9-9588-4a5c-819b-169046086d53",
   "metadata": {},
   "source": [
    "## תרגיל 1 (ידני):"
   ]
  },
  {
   "cell_type": "markdown",
   "id": "253e0f5f-60b2-4427-889f-2ce2cc5b7a41",
   "metadata": {},
   "source": [
    "### x – y = 8\n",
    "### 3x + 2y = 24"
   ]
  },
  {
   "cell_type": "code",
   "execution_count": null,
   "id": "70cf3f74-c014-4b4a-89c5-1187e25f9f2b",
   "metadata": {},
   "outputs": [],
   "source": [
    "A = [1, -1]    X = [x]    B = [8 ]  \n",
    "    [3,  2]        [y]        [24]"
   ]
  },
  {
   "cell_type": "code",
   "execution_count": null,
   "id": "8b58007f-66b0-43a5-ac84-17400026a23d",
   "metadata": {},
   "outputs": [],
   "source": [
    "det = 1*2 - (-1*3) = 2-(-3)"
   ]
  },
  {
   "cell_type": "markdown",
   "id": "cbd6667b-40b6-497d-8ee0-dee1e2e508bd",
   "metadata": {},
   "source": [
    "### det = 5"
   ]
  },
  {
   "cell_type": "code",
   "execution_count": null,
   "id": "49bee2a8-3462-48d2-8abc-7f5b4aed9c45",
   "metadata": {},
   "outputs": [],
   "source": [
    "adj = [d, -b]\n",
    "      [-c, a]"
   ]
  },
  {
   "cell_type": "markdown",
   "id": "ec0a6ff7-58ff-4e0c-abef-3f8e73bf10ed",
   "metadata": {},
   "source": [
    "### adj = \n",
    "###   [ 2, 1]\n",
    "###   [-3, 1]"
   ]
  },
  {
   "cell_type": "markdown",
   "id": "6f227c69-0521-4503-9239-437b4a70cc47",
   "metadata": {},
   "source": [
    "## A^-1 = 1/det(A) * adj(A)"
   ]
  },
  {
   "cell_type": "code",
   "execution_count": null,
   "id": "93faf211-dc9d-4b4b-9893-5418be4a6eab",
   "metadata": {},
   "outputs": [],
   "source": [
    "A^-1 = 1/5 * [ 2,1]\n",
    "             [-3,1]"
   ]
  },
  {
   "cell_type": "code",
   "execution_count": null,
   "id": "569210e2-4533-4d11-81d0-18c33374ca03",
   "metadata": {},
   "outputs": [],
   "source": [
    "A^-1 = [ 2/5, 1/5]\n",
    "       [-3/5, 1/5]"
   ]
  },
  {
   "cell_type": "markdown",
   "id": "58e2dff0-7e0c-4bba-9b53-286041d6f32c",
   "metadata": {},
   "source": [
    "## X = A^-1 * B"
   ]
  },
  {
   "cell_type": "code",
   "execution_count": null,
   "id": "0b663f37-1d4d-4600-adc3-dc316df5b6db",
   "metadata": {},
   "outputs": [],
   "source": [
    "X =  [ 2/5, 1/5]  * [8 ]\n",
    "     [-3/5, 1/5]    [24]"
   ]
  },
  {
   "cell_type": "code",
   "execution_count": null,
   "id": "26a4d2d2-1f55-478b-8f34-a4b73d86943b",
   "metadata": {},
   "outputs": [],
   "source": [
    "X = [(2/5 * 8) + (1/5 * 24)]\n",
    "    [(-3/5 * 8) + (1/5 * 24)]"
   ]
  },
  {
   "cell_type": "code",
   "execution_count": null,
   "id": "102af92f-a176-4450-aeb7-24ff8b62e1ac",
   "metadata": {},
   "outputs": [],
   "source": [
    "X = [40/5]\n",
    "    [0/5 ]"
   ]
  },
  {
   "cell_type": "markdown",
   "id": "a3f29f95-0cb4-4382-bf87-433bb28575b5",
   "metadata": {},
   "source": [
    "### X =\n",
    "###   [8]\n",
    "###   [0]"
   ]
  },
  {
   "cell_type": "markdown",
   "id": "47766b99-2279-4af2-9939-015ac7be1923",
   "metadata": {},
   "source": [
    "## x = 8, y = 0"
   ]
  },
  {
   "cell_type": "markdown",
   "id": "c0802383-a58a-462d-8d69-cfafed4d40ff",
   "metadata": {},
   "source": [
    "## תרגיל 2 (ידני):"
   ]
  },
  {
   "cell_type": "markdown",
   "id": "09365a69-27bb-428d-8bda-76e47f4857bb",
   "metadata": {},
   "source": [
    "### 6x + y = 12\n",
    "### 3y + 2x = 20"
   ]
  },
  {
   "cell_type": "markdown",
   "id": "7432eccc-d337-400e-a18b-811a8ff44c30",
   "metadata": {},
   "source": [
    "### 6x + y = 12\n",
    "### 2x + 3y = 20"
   ]
  },
  {
   "cell_type": "code",
   "execution_count": null,
   "id": "bf2b9459-7b01-4bff-b5f1-e18bc7da4346",
   "metadata": {},
   "outputs": [],
   "source": [
    "A = [6, 1]    X = [x]    B = [12]  \n",
    "    [2, 3]        [y]        [20]"
   ]
  },
  {
   "cell_type": "code",
   "execution_count": null,
   "id": "349a0e3d-5a69-402e-a393-eae21deb79ce",
   "metadata": {},
   "outputs": [],
   "source": [
    "det = 6*3 - (1*2) = 18-2"
   ]
  },
  {
   "cell_type": "markdown",
   "id": "65b78605-1a83-4001-93d4-afaabcc4c4af",
   "metadata": {},
   "source": [
    "### det = 16"
   ]
  },
  {
   "cell_type": "code",
   "execution_count": null,
   "id": "51518efa-cb1b-4422-b892-c7df1d961937",
   "metadata": {},
   "outputs": [],
   "source": [
    "adj = [d, -b]\n",
    "      [-c, a]"
   ]
  },
  {
   "cell_type": "markdown",
   "id": "73ac5888-0dae-4a4d-a96a-f15d3f44dc2a",
   "metadata": {},
   "source": [
    "### adj = \n",
    "###   [ 3, -1]\n",
    "###   [-2, 6 ]"
   ]
  },
  {
   "cell_type": "markdown",
   "id": "808707c3-b0b5-4316-8888-d4edcca379bb",
   "metadata": {},
   "source": [
    "## A^-1 = 1/det(A) * adj(A)"
   ]
  },
  {
   "cell_type": "code",
   "execution_count": null,
   "id": "5269a60e-4251-4ce1-bcd3-034d838825dc",
   "metadata": {},
   "outputs": [],
   "source": [
    "A^-1 = 1/16 * [ 3,-1]\n",
    "              [-2, 6]"
   ]
  },
  {
   "cell_type": "markdown",
   "id": "4a58f7f0-39b3-4182-bdc9-05f02434ed45",
   "metadata": {},
   "source": [
    "## X = A^-1 * B\n"
   ]
  },
  {
   "cell_type": "code",
   "execution_count": null,
   "id": "29d9fa5b-fcbc-4e20-950e-83f5fbb2e07e",
   "metadata": {},
   "outputs": [],
   "source": [
    "X =  [3/16, -1/16]  * [12]\n",
    "     [-2/16, 6/16]    [20]"
   ]
  },
  {
   "cell_type": "code",
   "execution_count": null,
   "id": "85462ef1-af6b-4834-ad64-6e2fbb54b281",
   "metadata": {},
   "outputs": [],
   "source": [
    "X = [(3/16 * 12) + (-1/16 * 20)]\n",
    "    [(-2/16 * 12) + (6/16 * 20)]"
   ]
  },
  {
   "cell_type": "code",
   "execution_count": null,
   "id": "b9aa54ab-ab03-4784-a3e7-adc917f43221",
   "metadata": {},
   "outputs": [],
   "source": [
    "X = [16/16]\n",
    "    [96/16]"
   ]
  },
  {
   "cell_type": "markdown",
   "id": "33821b6b-5e1b-47c9-878d-2da749028c91",
   "metadata": {},
   "source": [
    "### X =\n",
    "###   [1]\n",
    "###   [6]"
   ]
  },
  {
   "cell_type": "markdown",
   "id": "658f7fbb-f2d6-47af-a5b2-22152eb19819",
   "metadata": {},
   "source": [
    "## x = 1, y = 6"
   ]
  },
  {
   "cell_type": "markdown",
   "id": "19087d88-4cca-4958-9bd9-dfa7972f9dbf",
   "metadata": {},
   "source": [
    "## תרגיל 3 (ידני):"
   ]
  },
  {
   "cell_type": "markdown",
   "id": "b70a5cf8-8fc5-46b1-8a71-3a2d8794a02f",
   "metadata": {},
   "source": [
    "### 2x + y = 3\n",
    "### x + y + z = 0\n",
    "### y + 3z = -1\n"
   ]
  },
  {
   "cell_type": "code",
   "execution_count": null,
   "id": "f05dedb5-8592-428d-8682-30e2400d0477",
   "metadata": {},
   "outputs": [],
   "source": [
    "A = [2, 1, 0]    X = [x]    B = [3 ]  \n",
    "    [1, 1, 1]        [y]        [0 ]\n",
    "    [0, 1, 3]        [z]        [-1]"
   ]
  },
  {
   "cell_type": "code",
   "execution_count": null,
   "id": "9ed4a43e-a88a-49d2-a994-03f2f74a5001",
   "metadata": {},
   "outputs": [],
   "source": [
    "det = 6(1*3-1*1) -1(1*3-1*0) +0(1*1-1*0) = 2(3-1)-1(3-0)"
   ]
  },
  {
   "cell_type": "markdown",
   "id": "d14fd33c-16bb-491f-a220-24e6216a7978",
   "metadata": {},
   "source": [
    "### det = 1"
   ]
  },
  {
   "cell_type": "code",
   "execution_count": null,
   "id": "b2fdfa70-be59-45a5-b10c-135b243d9967",
   "metadata": {},
   "outputs": [],
   "source": [
    "C(11) = (1*3)-(1*1) = 2                                    [2, -3, 1]\n",
    "C(12) = (1*3)-(1*0) = 3  --->  -3                          [-3, 6,-2]\n",
    "C(13) = (1*1)-(1*0) = 1                                    [1, -2, 1]\n",
    "C(21) = (1*3)-(0*1) = 3 ---->  -3                         \n",
    "C(22) = (2*3)-(0*0) = 6\n",
    "C(23) = (2*1)-(1*0) = 2 ---->  -2\n",
    "C(31) = (1*1)-(0*1) = 1\n",
    "C(32) = (2*1)-(0*1) = 2 ---->  -2\n",
    "C(33) = (2*1)-(1*1) = 1"
   ]
  },
  {
   "cell_type": "code",
   "execution_count": null,
   "id": "df3a1737-73cf-422f-a61c-cae6e3c2e256",
   "metadata": {},
   "outputs": [],
   "source": [
    "Transpose, adj = [2, -3, 1]\n",
    "                 [-3, 6,-2]\n",
    "                 [1, -2, 1]"
   ]
  },
  {
   "cell_type": "markdown",
   "id": "bd984219-68d2-473c-912b-e1d6c382ca86",
   "metadata": {},
   "source": [
    "## A^-1 = 1/det(A) * adj(A)"
   ]
  },
  {
   "cell_type": "code",
   "execution_count": null,
   "id": "2d83bd93-46bb-4b21-b1d6-0baac466a3d0",
   "metadata": {},
   "outputs": [],
   "source": [
    "A^-1 = 1/1 * [2, -3, 1]\n",
    "             [-3, 6,-2]\n",
    "             [1, -2, 1]"
   ]
  },
  {
   "cell_type": "markdown",
   "id": "a5cab38a-7cb8-43b9-b0ed-25189203e35b",
   "metadata": {},
   "source": [
    "## X = A^-1 * B\n"
   ]
  },
  {
   "cell_type": "code",
   "execution_count": null,
   "id": "0fdc431d-7c03-4035-b664-c9e1c7e90e0c",
   "metadata": {},
   "outputs": [],
   "source": [
    "X =  [2, -3, 1] * [3 ]\n",
    "     [-3, 6,-2]   [0 ]\n",
    "     [1, -2, 1]   [-1] "
   ]
  },
  {
   "cell_type": "code",
   "execution_count": null,
   "id": "2e5ad105-340f-4223-aaf8-8cb32c39a641",
   "metadata": {},
   "outputs": [],
   "source": [
    "X = [(2 * 3) + (-3 * 0) + (1*-1)]\n",
    "    [(-3 * 3) + (6 *0) + (-2*-1)]\n",
    "    [(1 * 3) + (-2 * 0) + (1*-1)]"
   ]
  },
  {
   "cell_type": "markdown",
   "id": "7cc793f8-cbf8-4555-90d2-e51569c27bad",
   "metadata": {},
   "source": [
    "### X =\n",
    "###   [ 5]\n",
    "###   [-7]\n",
    "###   [ 2]\n"
   ]
  },
  {
   "cell_type": "markdown",
   "id": "9610365c-39ad-425b-b923-90ff9b2f024b",
   "metadata": {},
   "source": [
    "## x = 5, y = -7, z = 2"
   ]
  },
  {
   "cell_type": "markdown",
   "id": "303e8eee-319b-4c18-8645-5afd4e52f45e",
   "metadata": {},
   "source": [
    "## תרגיל 4 (ידני):"
   ]
  },
  {
   "cell_type": "markdown",
   "id": "7717cdfb-1533-4be5-bc05-4aeaa098d897",
   "metadata": {},
   "source": [
    "### 3x - 2y -4z = 4\n",
    "### x - 2z +3y = 8\n",
    "### 2x -4y +3z = 3\n"
   ]
  },
  {
   "cell_type": "markdown",
   "id": "3f22bf69-7ee1-4076-baa6-b44bc52d49f3",
   "metadata": {},
   "source": [
    "### 3x - 2y -4z = 4\n",
    "### x +3y - 2z = 8\n",
    "### 2x -4y +3z = 3\n"
   ]
  },
  {
   "cell_type": "code",
   "execution_count": null,
   "id": "2131dfa4-2330-4a08-bedf-38a05365a83a",
   "metadata": {},
   "outputs": [],
   "source": [
    "A = [3, -2, -4]    X = [x]    B = [4]  \n",
    "    [1,  3, -2]        [y]        [8]\n",
    "    [2, -4,  3]        [z]        [3]"
   ]
  },
  {
   "cell_type": "code",
   "execution_count": null,
   "id": "5237e8f1-6c7c-41a2-a8a4-98eb3a0da1a4",
   "metadata": {},
   "outputs": [],
   "source": [
    "det = 3(3*3-(-2*-4)) -(-2(1*3-(-2*2))) +4(1*-4-(3*2)) = 3(9-8)+2(3+4)+(-4)*(-4-6) = 3+14+40"
   ]
  },
  {
   "cell_type": "markdown",
   "id": "9854b0d3-0c0b-4e8f-995a-0e65a1e1a64f",
   "metadata": {},
   "source": [
    "### det = 57"
   ]
  },
  {
   "cell_type": "code",
   "execution_count": null,
   "id": "442f5a0d-53e8-4b20-8a37-874a7c6cab56",
   "metadata": {},
   "outputs": [],
   "source": [
    " C(11) = (3*3)-(-2*-4) = 9-8 = 1                                     [1, -7,-10]\n",
    "C(12) = (1*3)-(-2*2) = 3-(-4) = 7  --->  -7                          [22, 17, 8]\n",
    "C(13) = (1*-4)-(3*2) = -4-6 = -10                                    [16, 2, 11]\n",
    "C(21) = (-2*3)-(-4*-4) = -6-16 = -22 ---->  22                        \n",
    "C(22) = (3*3)-(-4*2) = 9+8 = 17\n",
    "C(23) = (3*-4)-(-2*2) = -12+4 = -8 ---->  8\n",
    "C(31) = (-2*-2)-(-4*3) = 4+12 = 16\n",
    "C(32) = (3*-2)-(-4*1) = -6+4 = -2 ---->  2\n",
    "C(33) = (3*3)-(-2*1) = 9+2 = 11"
   ]
  },
  {
   "cell_type": "code",
   "execution_count": null,
   "id": "4f984228-d66c-4522-a7d4-e9be3a9cd2b6",
   "metadata": {},
   "outputs": [],
   "source": [
    "Transpose, adj = [1, 22, 16]\n",
    "                 [-7, 17, 2]\n",
    "                 [-10,8, 11]"
   ]
  },
  {
   "cell_type": "markdown",
   "id": "45e58603-2224-425c-947f-b325e2dc5b24",
   "metadata": {},
   "source": [
    "## A^-1 = 1/det(A) * adj(A)"
   ]
  },
  {
   "cell_type": "code",
   "execution_count": null,
   "id": "39452245-17df-4bdd-8885-88601c00fee1",
   "metadata": {},
   "outputs": [],
   "source": [
    "A^-1 = 1/57 * [1, 22, 16] =    [1/57, 22/57, 16/57 ]\n",
    "              [-7, 17, 2]      [-7/57, 17/57, 2/57 ]\n",
    "              [-10,8, 11]      [-10/57, 8/57, 11/57] "
   ]
  },
  {
   "cell_type": "markdown",
   "id": "6bbb158e-0473-483d-adaa-a415c9a23386",
   "metadata": {},
   "source": [
    "## X = A^-1 * B"
   ]
  },
  {
   "cell_type": "code",
   "execution_count": null,
   "id": "641cf8cd-42b5-4b9b-a4cc-5c2782bccfe5",
   "metadata": {},
   "outputs": [],
   "source": [
    "X =  [1/57, 22/57, 16/57 ] * [4]\n",
    "     [-7/57, 17/57, 2/57 ]   [8]\n",
    "     [-10/57, 8/57, 11/57]   [3] "
   ]
  },
  {
   "cell_type": "code",
   "execution_count": null,
   "id": "9d06bcaf-77cd-4aea-bd8e-f4dcf34d81c4",
   "metadata": {},
   "outputs": [],
   "source": [
    "X = [(4 * 1) + (8 * 22) + (3 * 16) / 57] = 4+176+48/57 = 228/57 = 4\n",
    "    [(-7 * 4) + (17 * 8) + (2 * 3) /57] = -28+136+6/57 = 114/57 = 2\n",
    "    [(-10 * 4) + (8 * 8) + (11 * 3) / 57] = -40+64+33/57 = 57/57 = 1"
   ]
  },
  {
   "cell_type": "markdown",
   "id": "6f71fe18-3a55-4cf5-a928-e44d74d8c2f6",
   "metadata": {},
   "source": [
    "### X =\n",
    "###   [4]\n",
    "###   [2]\n",
    "###   [1]\n"
   ]
  },
  {
   "cell_type": "markdown",
   "id": "f1888ff3-1662-436e-aebb-1da3522e3bbf",
   "metadata": {},
   "source": [
    "## x = 4, y = 2, z = 1"
   ]
  },
  {
   "cell_type": "code",
   "execution_count": 65,
   "id": "0fce4090-3908-4b24-bb5c-2c3ccfee4ce0",
   "metadata": {},
   "outputs": [],
   "source": [
    "import pandas as pd\n",
    "import numpy as np\n",
    "import matplotlib.pyplot as plt\n",
    "import seaborn as sns\n",
    "from IPython.display import display"
   ]
  },
  {
   "cell_type": "code",
   "execution_count": null,
   "id": "2719b1c4-16cb-4f89-9e0a-8ed54cc0c642",
   "metadata": {},
   "outputs": [],
   "source": [
    "def visualize_vector_multiplication(vector1, vector2):\n",
    "    \"\"\"\n",
    "    Visualizes two vectors and demonstrates different multiplication operations:\n",
    "    1. Dot product (scalar product)\n",
    "    2. Cross product (vector product)\n",
    "    \n",
    "    Parameters:\n",
    "    vector1, vector2: lists or arrays of 3 elements [x, y, z]\n",
    "    \"\"\"\n",
    "    # Convert to numpy arrays\n",
    "    v1 = np.array(vector1)\n",
    "    v2 = np.array(vector2)\n",
    "    \n",
    "    # Calculate products\n",
    "    dot_product = np.dot(v1, v2)\n",
    "    cross_product = np.cross(v1, v2)\n",
    "    \n",
    "    # Create 3D plot\n",
    "    fig = plt.figure(figsize=(15, 10))\n",
    "    \n",
    "    # First subplot for vectors\n",
    "    ax1 = fig.add_subplot(121, projection='3d')\n",
    "    \n",
    "    # Plot origin\n",
    "    ax1.scatter([0], [0], [0], color='k', s=100)\n",
    "    \n",
    "    # Plot the two vectors\n",
    "    ax1.quiver(0, 0, 0, v1[0], v1[1], v1[2], color='blue', label='Vector 1')\n",
    "    ax1.quiver(0, 0, 0, v2[0], v2[1], v2[2], color='red', label='Vector 2')\n",
    "    \n",
    "    # Plot cross product vector\n",
    "    ax1.quiver(0, 0, 0, cross_product[0], cross_product[1], cross_product[2], \n",
    "              color='green', label='Cross Product')\n",
    "    \n",
    "    # Set labels and title\n",
    "    ax1.set_xlabel('X')\n",
    "    ax1.set_ylabel('Y')\n",
    "    ax1.set_zlabel('Z')\n",
    "    ax1.set_title('Vectors and Their Cross Product')\n",
    "    \n",
    "    # Set equal aspect ratio\n",
    "    max_range = np.array([\n",
    "        max([v1[0], v2[0], cross_product[0]]) - min([v1[0], v2[0], cross_product[0]]),\n",
    "        max([v1[1], v2[1], cross_product[1]]) - min([v1[1], v2[1], cross_product[1]]),\n",
    "        max([v1[2], v2[2], cross_product[2]]) - min([v1[2], v2[2], cross_product[2]])\n",
    "    ]).max() / 2.0\n",
    "    \n",
    "    mid_x = (max([v1[0], v2[0], cross_product[0]]) + min([v1[0], v2[0], cross_product[0]])) * 0.5\n",
    "    mid_y = (max([v1[1], v2[1], cross_product[1]]) + min([v1[1], v2[1], cross_product[1]])) * 0.5\n",
    "    mid_z = (max([v1[2], v2[2], cross_product[2]]) + min([v1[2], v2[2], cross_product[2]])) * 0.5\n",
    "    \n",
    "    ax1.set_xlim(mid_x - max_range, mid_x + max_range)\n",
    "    ax1.set_ylim(mid_y - max_range, mid_y + max_range)\n",
    "    ax1.set_zlim(mid_z - max_range, mid_z + max_range)\n",
    "    \n",
    "    ax1.legend()\n",
    "    \n",
    "    # Second subplot for information\n",
    "    ax2 = fig.add_subplot(122)\n",
    "    ax2.axis('off')\n",
    "    \n",
    "    # Display information\n",
    "    info_text = f\"\"\"\n",
    "    Vector 1: {v1}\n",
    "    Vector 2: {v2}\n",
    "    \n",
    "    Dot Product (Scalar Product):\n",
    "    v1 · v2 = {dot_product}\n",
    "    \n",
    "    Cross Product (Vector Product):\n",
    "    v1 × v2 = {cross_product}\n",
    "    \n",
    "    Length of v1: {np.linalg.norm(v1):.2f}\n",
    "    Length of v2: {np.linalg.norm(v2):.2f}\n",
    "    Length of v1 × v2: {np.linalg.norm(cross_product):.2f}\n",
    "    \n",
    "    Angle between vectors:\n",
    "    θ = {np.arccos(dot_product / (np.linalg.norm(v1) * np.linalg.norm(v2))) * 180 / np.pi:.2f} degrees\n",
    "    \"\"\"\n",
    "    \n",
    "    ax2.text(0, 0.5, info_text, fontsize=12, va='center')\n",
    "    \n",
    "    plt.tight_layout()\n",
    "    plt.show()\n",
    "\n",
    "# Example usage\n",
    "vector1 = [3, 1, 2]\n",
    "vector2 = [1, 2, 1]\n",
    "visualize_vector_multiplication(vector1, vector2)"
   ]
  }
 ],
 "metadata": {
  "kernelspec": {
   "display_name": "Python 3 (ipykernel)",
   "language": "python",
   "name": "python3"
  },
  "language_info": {
   "codemirror_mode": {
    "name": "ipython",
    "version": 3
   },
   "file_extension": ".py",
   "mimetype": "text/x-python",
   "name": "python",
   "nbconvert_exporter": "python",
   "pygments_lexer": "ipython3",
   "version": "3.12.7"
  }
 },
 "nbformat": 4,
 "nbformat_minor": 5
}
