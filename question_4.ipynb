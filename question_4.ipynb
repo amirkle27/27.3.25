{
 "cells": [
  {
   "cell_type": "markdown",
   "id": "48bc93fd-f1bc-4e52-b560-adf9505d78af",
   "metadata": {},
   "source": [
    "# פתירת משוואות באמצעות הנוסחא\n",
    "# AX = B"
   ]
  },
  {
   "cell_type": "markdown",
   "id": "303e8eee-319b-4c18-8645-5afd4e52f45e",
   "metadata": {},
   "source": [
    "# תרגיל 4:"
   ]
  },
  {
   "cell_type": "markdown",
   "id": "de4b592a-1658-4bfb-8f52-a715fa5a1d18",
   "metadata": {},
   "source": [
    "## פתרון ידני:"
   ]
  },
  {
   "cell_type": "markdown",
   "id": "7717cdfb-1533-4be5-bc05-4aeaa098d897",
   "metadata": {},
   "source": [
    "### 3x - 2y -4z = 4\n",
    "### x - 2z +3y = 8\n",
    "### 2x -4y +3z = 3\n"
   ]
  },
  {
   "cell_type": "markdown",
   "id": "3f22bf69-7ee1-4076-baa6-b44bc52d49f3",
   "metadata": {},
   "source": [
    "### 3x - 2y -4z = 4\n",
    "### x +3y - 2z = 8\n",
    "### 2x -4y +3z = 3\n"
   ]
  },
  {
   "cell_type": "code",
   "execution_count": null,
   "id": "2131dfa4-2330-4a08-bedf-38a05365a83a",
   "metadata": {},
   "outputs": [],
   "source": [
    "A = [3, -2, -4]    X = [x]    B = [4]  \n",
    "    [1,  3, -2]        [y]        [8]\n",
    "    [2, -4,  3]        [z]        [3]"
   ]
  },
  {
   "cell_type": "code",
   "execution_count": null,
   "id": "5237e8f1-6c7c-41a2-a8a4-98eb3a0da1a4",
   "metadata": {},
   "outputs": [],
   "source": [
    "det = 3(3*3-(-2*-4)) -(-2(1*3-(-2*2))) +4(1*-4-(3*2)) = 3(9-8)+2(3+4)+(-4)*(-4-6) = 3+14+40"
   ]
  },
  {
   "cell_type": "markdown",
   "id": "9854b0d3-0c0b-4e8f-995a-0e65a1e1a64f",
   "metadata": {},
   "source": [
    "### det = 57"
   ]
  },
  {
   "cell_type": "code",
   "execution_count": null,
   "id": "442f5a0d-53e8-4b20-8a37-874a7c6cab56",
   "metadata": {},
   "outputs": [],
   "source": [
    "C(11) = (3*3)-(-2*-4) = 9-8 = 1                                     [1, -7,-10]\n",
    "C(12) = (1*3)-(-2*2) = 3-(-4) = 7  --->  -7                          [22, 17, 8]\n",
    "C(13) = (1*-4)-(3*2) = -4-6 = -10                                    [16, 2, 11]\n",
    "C(21) = (-2*3)-(-4*-4) = -6-16 = -22 ---->  22                        \n",
    "C(22) = (3*3)-(-4*2) = 9+8 = 17\n",
    "C(23) = (3*-4)-(-2*2) = -12+4 = -8 ---->  8\n",
    "C(31) = (-2*-2)-(-4*3) = 4+12 = 16\n",
    "C(32) = (3*-2)-(-4*1) = -6+4 = -2 ---->  2\n",
    "C(33) = (3*3)-(-2*1) = 9+2 = 11"
   ]
  },
  {
   "cell_type": "code",
   "execution_count": null,
   "id": "4f984228-d66c-4522-a7d4-e9be3a9cd2b6",
   "metadata": {},
   "outputs": [],
   "source": [
    "Transpose, adj = [1, 22, 16]\n",
    "                 [-7, 17, 2]\n",
    "                 [-10,8, 11]"
   ]
  },
  {
   "cell_type": "markdown",
   "id": "45e58603-2224-425c-947f-b325e2dc5b24",
   "metadata": {},
   "source": [
    "## A^-1 = 1/det(A) * adj(A)"
   ]
  },
  {
   "cell_type": "code",
   "execution_count": null,
   "id": "39452245-17df-4bdd-8885-88601c00fee1",
   "metadata": {},
   "outputs": [],
   "source": [
    "A^-1 = 1/57 * [1, 22, 16] =    [1/57, 22/57, 16/57 ]\n",
    "              [-7, 17, 2]      [-7/57, 17/57, 2/57 ]\n",
    "              [-10,8, 11]      [-10/57, 8/57, 11/57] "
   ]
  },
  {
   "cell_type": "markdown",
   "id": "6bbb158e-0473-483d-adaa-a415c9a23386",
   "metadata": {},
   "source": [
    "## X = A^-1 * B"
   ]
  },
  {
   "cell_type": "code",
   "execution_count": null,
   "id": "641cf8cd-42b5-4b9b-a4cc-5c2782bccfe5",
   "metadata": {},
   "outputs": [],
   "source": [
    "X =  [1/57, 22/57, 16/57 ] * [4]\n",
    "     [-7/57, 17/57, 2/57 ]   [8]\n",
    "     [-10/57, 8/57, 11/57]   [3] "
   ]
  },
  {
   "cell_type": "code",
   "execution_count": null,
   "id": "9d06bcaf-77cd-4aea-bd8e-f4dcf34d81c4",
   "metadata": {},
   "outputs": [],
   "source": [
    "X = [(4 * 1) + (8 * 22) + (3 * 16) / 57] = 4+176+48/57 = 228/57 = 4\n",
    "    [(-7 * 4) + (17 * 8) + (2 * 3) /57] = -28+136+6/57 = 114/57 = 2\n",
    "    [(-10 * 4) + (8 * 8) + (11 * 3) / 57] = -40+64+33/57 = 57/57 = 1"
   ]
  },
  {
   "cell_type": "markdown",
   "id": "6f71fe18-3a55-4cf5-a928-e44d74d8c2f6",
   "metadata": {},
   "source": [
    "### X =\n",
    "###   [4]\n",
    "###   [2]\n",
    "###   [1]\n"
   ]
  },
  {
   "cell_type": "markdown",
   "id": "f1888ff3-1662-436e-aebb-1da3522e3bbf",
   "metadata": {},
   "source": [
    "## x = 4, y = 2, z = 1"
   ]
  },
  {
   "cell_type": "markdown",
   "id": "43e03abd-79bd-48ed-8931-b77da9c0a41b",
   "metadata": {},
   "source": [
    "# פתרון בקוד:"
   ]
  },
  {
   "cell_type": "code",
   "execution_count": 31,
   "id": "29081934-a7f5-436b-bb2a-e773beb1a74b",
   "metadata": {},
   "outputs": [
    {
     "name": "stdout",
     "output_type": "stream",
     "text": [
      "System of equations:\n",
      "3x -2y -4z = 4\n",
      "1x -2z + 3y = 8\n",
      "2x -4y + 3z = 3\n",
      "\n",
      "Results:\n",
      "Solution: x = 4.00, y = 2.00, z = 1.00\n",
      "A_inverse: [[0.01754385964912278, 0.3859649122807018, 0.28070175438596495], [-0.12280701754385966, 0.2982456140350877, 0.035087719298245626], [-0.1754385964912281, 0.1403508771929825, 0.19298245614035092]]\n"
     ]
    }
   ],
   "source": [
    "import numpy as np\n",
    "\n",
    "def solve_linear_system(coefficients, constants):\n",
    "    \"\"\"\n",
    "    Function to solve a system of linear equations with any number of unknowns\n",
    "    \n",
    "    :param coefficients: Coefficient matrix of the equations. nxn matrix\n",
    "    :param constants: Vector of constant terms [b1, b2, ..., bn]\n",
    "    :return: Solution of the system and details of calculation method\n",
    "    \"\"\"\n",
    "    \n",
    "    # Convert inputs to numpy arrays\n",
    "    A = np.array(coefficients, dtype=float)\n",
    "    b = np.array(constants, dtype=float)\n",
    "    \n",
    "   # Validate input dimensions\n",
    "    n = b.shape[0]  # Number of equations/unknowns\n",
    "    if A.shape != (n, n):\n",
    "        raise ValueError(f\"Input must be a system of {n} equations with {n} unknowns\")\n",
    "        \n",
    "    results = {}\n",
    "    \n",
    "    det_A = np.linalg.det(A)\n",
    "    \n",
    "    if abs(det_A) < 1e-10:\n",
    "        results[\"inverse\"] = \"Cannot compute inverse (singular matrix)\"\n",
    "    else:\n",
    "         # Calculate inverse of coefficient matrix\n",
    "        A_inv = np.linalg.inv(A)  # 1/det * adj = 1/det * [Cof^T}\n",
    "        \n",
    "        # Calculate solution x = A^(-1) * b\n",
    "        solution = np.dot(A_inv, b)\n",
    "        \n",
    "        results[\"inverse\"] = {\n",
    "            \"A_inverse\": A_inv.tolist(),\n",
    "            \"solution\": solution.tolist()\n",
    "        }\n",
    "       \n",
    "    return results\n",
    "\n",
    "# Example system:\n",
    "# 3x + 2y = 14\n",
    "# 2x + 5y = 19\n",
    "### x – y = 8\n",
    "### 3x + 2y = 24\n",
    "\n",
    "coefficients = [[3, -2, -4], [1,  3, -2], [2, -4,  3]]\n",
    "constants = [4, 8, 3]\n",
    "\n",
    "results = solve_linear_system(coefficients, constants)\n",
    "\n",
    "print(\"System of equations:\")\n",
    "print(f\"{coefficients[0][0]}x {coefficients[0][1]}y {coefficients[0][2]}z = {constants[0]}\")\n",
    "print(f\"{coefficients[1][0]}x {coefficients[1][2]}z + {coefficients[1][1]}y = {constants[1]}\")\n",
    "print(f\"{coefficients[2][0]}x {coefficients[2][1]}y + {coefficients[2][2]}z = {constants[2]}\")\n",
    "print(\"\\nResults:\")\n",
    "\n",
    "for method, result in results.items():\n",
    "    if isinstance(result, dict):\n",
    "        if \"solution\" in result:\n",
    "            print(f\"Solution: x = {result['solution'][0]:.2f}, y = {result['solution'][1]:.2f}, z = {result['solution'][2]:.2f}\")\n",
    "        for key, value in result.items():\n",
    "            if key != \"solution\":\n",
    "                print(f\"{key}: {value}\")\n",
    "    else:\n",
    "        print(result)\n"
   ]
  }
 ],
 "metadata": {
  "kernelspec": {
   "display_name": "Python 3 (ipykernel)",
   "language": "python",
   "name": "python3"
  },
  "language_info": {
   "codemirror_mode": {
    "name": "ipython",
    "version": 3
   },
   "file_extension": ".py",
   "mimetype": "text/x-python",
   "name": "python",
   "nbconvert_exporter": "python",
   "pygments_lexer": "ipython3",
   "version": "3.12.7"
  }
 },
 "nbformat": 4,
 "nbformat_minor": 5
}
